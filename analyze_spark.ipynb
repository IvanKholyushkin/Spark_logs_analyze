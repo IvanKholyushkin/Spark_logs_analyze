{
 "cells": [
  {
   "cell_type": "code",
   "execution_count": null,
   "metadata": {},
   "outputs": [],
   "source": [
    "%pip install pyspark\n",
    "%pip install faker"
   ]
  },
  {
   "cell_type": "code",
   "execution_count": 2,
   "metadata": {},
   "outputs": [],
   "source": [
    "import csv\n",
    "from faker import Faker\n",
    "import random\n",
    "\n",
    "from pyspark.sql import SparkSession\n",
    "from pyspark.sql.functions import count, desc"
   ]
  },
  {
   "cell_type": "markdown",
   "metadata": {},
   "source": [
    "Сгенерируем 100,000 записей логов и сохраним их в CSV-файл"
   ]
  },
  {
   "cell_type": "code",
   "execution_count": 3,
   "metadata": {},
   "outputs": [
    {
     "name": "stdout",
     "output_type": "stream",
     "text": [
      "Сгенерировано 100000 записей и сохранено в web_server_logs.csv\n"
     ]
    }
   ],
   "source": [
    "fake = Faker()\n",
    "\n",
    "num_records = 100000\n",
    "\n",
    "http_methods = ['GET', 'POST', 'PUT', 'DELETE']\n",
    "response_codes = [200, 301, 404, 500]\n",
    "\n",
    "file_path = \"web_server_logs.csv\"\n",
    "\n",
    "with open(file_path, mode='w', newline='') as file:\n",
    "    writer = csv.writer(file)\n",
    "    writer.writerow(['ip', 'timestamp', 'method', 'url', 'response_code', 'response_size'])\n",
    "    \n",
    "    for _ in range(num_records):\n",
    "        ip = fake.ipv4()\n",
    "        timestamp = fake.date_time_this_year().isoformat()\n",
    "        method = random.choice(http_methods)\n",
    "        url = fake.uri_path()\n",
    "        response_code = random.choice(response_codes)\n",
    "        response_size = random.randint(100, 10000)\n",
    "        \n",
    "        writer.writerow([ip, timestamp, method, url, response_code, response_size])\n",
    "\n",
    "print(f\"Сгенерировано {num_records} записей и сохранено в {file_path}\")"
   ]
  },
  {
   "cell_type": "markdown",
   "metadata": {},
   "source": [
    "Создаем SparkSession для чтения csv файла"
   ]
  },
  {
   "cell_type": "code",
   "execution_count": 4,
   "metadata": {},
   "outputs": [
    {
     "name": "stdout",
     "output_type": "stream",
     "text": [
      "+---------------+-------------------+------+--------------------+-------------+-------------+\n",
      "|             ip|          timestamp|method|                 url|response_code|response_size|\n",
      "+---------------+-------------------+------+--------------------+-------------+-------------+\n",
      "|159.175.219.111|2024-06-27 16:57:18|  POST|      app/posts/blog|          301|         7427|\n",
      "|    51.8.211.65|2024-02-03 10:42:16|  POST|          categories|          301|         1597|\n",
      "| 182.197.64.200|2024-01-16 16:14:17|  POST|         app/explore|          404|         3482|\n",
      "| 116.212.216.37|2024-08-09 07:38:36|   GET|       main/main/tag|          500|         9887|\n",
      "|   3.192.187.20|2024-06-22 23:52:55|  POST|           blog/list|          301|         3340|\n",
      "| 140.35.234.134|2024-07-09 16:17:03|  POST|     search/app/main|          301|         3442|\n",
      "| 174.122.70.119|2024-06-21 22:38:38|   PUT|          categories|          200|         4971|\n",
      "|177.104.219.119|2024-05-30 16:34:10|   PUT|                main|          404|         7140|\n",
      "| 179.79.218.170|2024-05-05 21:09:50|   PUT|main/categories/e...|          301|         1261|\n",
      "|    17.24.4.229|2024-01-29 07:45:42|  POST|                main|          404|         3915|\n",
      "| 182.150.134.99|2024-07-26 00:36:38|  POST| search/category/app|          500|         4339|\n",
      "| 94.121.253.172|2024-02-18 07:45:02|   PUT|          categories|          500|         1144|\n",
      "| 198.109.44.151|2024-02-10 05:48:07|   PUT|           main/main|          500|         1278|\n",
      "| 118.212.174.48|2024-06-28 11:35:39|   PUT|          wp-content|          500|         7679|\n",
      "|   92.132.20.81|2024-05-21 17:45:05|DELETE|                main|          301|         8490|\n",
      "|  162.84.220.76|2024-03-23 05:08:40|   GET|                list|          301|         4670|\n",
      "| 46.171.120.182|2024-02-02 06:05:45|  POST|        tag/blog/app|          301|         4283|\n",
      "|     4.3.13.156|2024-01-30 05:54:58|   PUT|            category|          404|         8113|\n",
      "|   60.24.43.145|2024-01-13 13:55:34|   GET|     wp-content/list|          404|         3899|\n",
      "|  107.197.6.224|2024-03-25 13:02:16|  POST|main/search/categ...|          301|         6472|\n",
      "+---------------+-------------------+------+--------------------+-------------+-------------+\n",
      "only showing top 20 rows\n",
      "\n"
     ]
    }
   ],
   "source": [
    "spark = SparkSession.builder \\\n",
    "    .appName('web_server_logs') \\\n",
    "    .master('local[*]') \\\n",
    "    .getOrCreate()\n",
    "    \n",
    "logs_df = spark.read.csv(r'web_server_logs.csv', header=True, inferSchema=True)\n",
    "logs_df.show()"
   ]
  },
  {
   "cell_type": "markdown",
   "metadata": {},
   "source": [
    "Группируем данные по IP и считаем количество запросов для каждого IP, выводим 10 самых активных IP"
   ]
  },
  {
   "cell_type": "code",
   "execution_count": 5,
   "metadata": {},
   "outputs": [
    {
     "name": "stdout",
     "output_type": "stream",
     "text": [
      "Top 10 active IP addresses:\n",
      "+---------------+--------------+\n",
      "|             ip|response_count|\n",
      "+---------------+--------------+\n",
      "| 118.49.251.236|             2|\n",
      "| 76.222.127.203|             2|\n",
      "|110.135.193.211|             1|\n",
      "|187.252.136.135|             1|\n",
      "|  196.119.15.53|             1|\n",
      "|  177.77.163.23|             1|\n",
      "|   16.206.5.172|             1|\n",
      "| 112.137.136.89|             1|\n",
      "|  31.125.175.52|             1|\n",
      "|   27.40.27.217|             1|\n",
      "+---------------+--------------+\n",
      "\n"
     ]
    }
   ],
   "source": [
    "active_ip_addresses = logs_df.groupBy('ip') \\\n",
    "    .agg(count('response_size').alias('response_count')) \\\n",
    "    .orderBy(desc('response_count')) \\\n",
    "    .limit(10)\n",
    "\n",
    "print('Top 10 active IP addresses:')\n",
    "active_ip_addresses.show()\n"
   ]
  },
  {
   "cell_type": "markdown",
   "metadata": {},
   "source": [
    "Сгруппируем данные по HTTP-методу и считаем количество запросов для каждого метода"
   ]
  },
  {
   "cell_type": "code",
   "execution_count": 19,
   "metadata": {},
   "outputs": [
    {
     "name": "stdout",
     "output_type": "stream",
     "text": [
      "Request count by HTTP method:\n",
      "+------+--------------------+\n",
      "|method|count(response_code)|\n",
      "+------+--------------------+\n",
      "|  POST|               24846|\n",
      "|DELETE|               24959|\n",
      "|   PUT|               25136|\n",
      "|   GET|               25059|\n",
      "+------+--------------------+\n",
      "\n"
     ]
    }
   ],
   "source": [
    "count_method = logs_df.groupBy('method').agg(count('response_code'))\n",
    "\n",
    "\n",
    "print(f'Request count by HTTP method:')\n",
    "count_method.show()"
   ]
  },
  {
   "cell_type": "markdown",
   "metadata": {},
   "source": [
    "Фильтруем и считаем количество запросов с кодом ответа 404   \n",
    "Группируем данные по дате и суммируем размер ответов, сортируем по дате"
   ]
  },
  {
   "cell_type": "code",
   "execution_count": 37,
   "metadata": {},
   "outputs": [
    {
     "name": "stdout",
     "output_type": "stream",
     "text": [
      "Number of 404 response codes: 25132\n",
      "Total response size by day:\n",
      "+----------+-------------------+\n",
      "|      date|total_response_size|\n",
      "+----------+-------------------+\n",
      "|2024-01-01|             614352|\n",
      "|2024-01-02|             600045|\n",
      "|2024-01-03|             462107|\n",
      "|2024-01-04|             450255|\n",
      "|2024-01-05|             599210|\n",
      "|2024-01-06|             523533|\n",
      "|2024-01-07|             562389|\n",
      "|2024-01-08|             638383|\n",
      "|2024-01-09|             525968|\n",
      "|2024-01-10|             662050|\n",
      "|2024-01-11|             508995|\n",
      "|2024-01-12|             541372|\n",
      "|2024-01-13|             510950|\n",
      "|2024-01-14|             549425|\n",
      "|2024-01-15|             563182|\n",
      "|2024-01-16|             574433|\n",
      "|2024-01-17|             623054|\n",
      "|2024-01-18|             584093|\n",
      "|2024-01-19|             484968|\n",
      "|2024-01-20|             492107|\n",
      "+----------+-------------------+\n",
      "only showing top 20 rows\n",
      "\n"
     ]
    }
   ],
   "source": [
    "logs_df.createOrReplaceTempView('logs')\n",
    "\n",
    "response_404 = spark.sql(\"\"\"\n",
    "                         SELECT DATE(timestamp) AS date, sum(response_size) AS total_response_size\n",
    "                         FROM logs\n",
    "                         WHERE response_code = 404\n",
    "                         GROUP BY DATE(timestamp)\n",
    "                         ORDER BY date                        \n",
    "                         \"\"\")\n",
    "\n",
    "number_404 = spark.sql(\"\"\"\n",
    "                       SELECT COUNT(response_code)\n",
    "                       FROM logs\n",
    "                       WHERE response_code = 404\n",
    "                       \"\"\")\n",
    "\n",
    "print(f'Number of 404 response codes: {number_404.collect()[0][0]}')\n",
    "print('Total response size by day:')\n",
    "response_404.show()\n"
   ]
  }
 ],
 "metadata": {
  "kernelspec": {
   "display_name": "Python 3",
   "language": "python",
   "name": "python3"
  },
  "language_info": {
   "codemirror_mode": {
    "name": "ipython",
    "version": 3
   },
   "file_extension": ".py",
   "mimetype": "text/x-python",
   "name": "python",
   "nbconvert_exporter": "python",
   "pygments_lexer": "ipython3",
   "version": "3.12.0"
  }
 },
 "nbformat": 4,
 "nbformat_minor": 2
}
